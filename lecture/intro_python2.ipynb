{
 "cells": [
  {
   "cell_type": "markdown",
   "id": "2479f7da",
   "metadata": {},
   "source": [
    "Because you will be importing data from a local file, you will need to use a function `chdir` from the `os` library\n",
    "\n",
    "Use `chdir` to set your working directory to `~/qbb2025/bootcamp/day2_morning`"
   ]
  },
  {
   "cell_type": "code",
   "execution_count": 2,
   "id": "79a5914a",
   "metadata": {},
   "outputs": [],
   "source": [
    "from os import chdir\n",
    "chdir(\"/Users/cmdb/qbb2025/bootcamp/day2_morning\")"
   ]
  },
  {
   "cell_type": "markdown",
   "id": "1d3425f1",
   "metadata": {},
   "source": [
    "Let's revisit our actin CDS. This time we will be reading in the sequence from a FASTA file named \"actin.fa\""
   ]
  },
  {
   "cell_type": "code",
   "execution_count": 6,
   "id": "efbab97c",
   "metadata": {},
   "outputs": [
    {
     "name": "stdout",
     "output_type": "stream",
     "text": [
      "CAAAAATGTGTGACGACGAGGTTGCCGCTCTTGTTGTAGACAATGGATCCGGAATGTGCAAGGCCGGATTCGCCGGAGACGACGCTCCACGCGCCGTGTTCCCATCCATTGTCGGAAGACCACGTCATCAAGGAGTCATGGTCGGTATGGGACAAAAGGACTCGTACGTCGGAGATGAGGCCCAGTCCAAGAGAGGTATCCTTACCCTCAAGTACCCAATCGAGCACGGAATCGTCACAAATTGGGACGATATGGAGAAGATCTGGCACCACACCTTCTACAATGAGCTCCGTGTTGCCCCAGAAGAGCACCCAGTCCTCCTCACTGAGGCCCCACTCAATCCAAAGGCCAACAGAGAAAAGATGACTCAAATCATGTTCGAGACCTTCAACACCCCAGCCATGTACGTCGCGATTCAAGCCGTTCTCTCCCTCTACGCTTCCGGACGTACCACCGGAGTCGTCCTCGACTCTGGAGATGGTGTCACCCACACCGTCCCAATCTACGAAGGATATGCTCTCCCACACGCCATCCTTCGTCTCGACTTGGCCGGACGTGATCTTACTGATTACCTCATGAAGATCCTCACTGAGCGCGGTTACTCTTTCACCACCACCGCTGAGCGTGAGATCGTTCGTGACATCAAGGAGAAGCTCTGCTACGTCGCTCTCGACTTCGAGCAGGAAATGGCCACCGCTGCTTCCTCATCTTCACTCGAGAAGTCCTATGAGCTTCCTGACGGACAGGTTATCACCGTCGGAAATGAACGTTTCCGTTGCCCAGAGGCTCTCTTCCAGCCATCCTTCTTGGGTATGGAGTCCGCCGGAATCCACGAGACCTCGTACAACTCCATCATGAAGTGCGACATTGACATCCGTAAGGACTTGTACGCCAACACCGTTCTCTCCGGAGGAACCACCATGTACCCAGGAATTGCTGATCGCATGCAAAAGGAGATCACCGCTCTTGCCCCATCCACCATGAAGATCAAGATCATCGCTCCACCAGAGCGCAAATACTCCGTCTGGATCGGAGGATCCATCCTCGCTTCCCTCTCCACCTTCCAACAGATGTGGATCTCCAAGCAAGAGTACGACGAGTCCGGCCCATCGATCGTCCACCGCAAGTGCTTCTAAGCGCCTCGTCCCCACCATTTTTCTCTATTATTTTTTCCTTTTTTACCATCTTTTTTCCCTTTTTTGTCACCAAATCGTTATGGTCCCTTTTGGGACAATAACAACTTCCGTATCATCATTTTAAGATCATGAGACCATCCAAAAAAAGAC\n"
     ]
    }
   ],
   "source": [
    "sequence = []\n",
    "for line in open('actin.fa'):\n",
    "    line = line.strip(\"\\n\")\n",
    "    if line.startswith(\">\"):\n",
    "        seq_name = line[2:]\n",
    "        continue\n",
    "    sequence.append(line)\n",
    "sequence = \"\".join(sequence)\n",
    "print(sequence)"
   ]
  },
  {
   "cell_type": "markdown",
   "id": "81f432c4",
   "metadata": {},
   "source": [
    "Because this is DNA sequence, let's convert it to the RNA alphabet"
   ]
  },
  {
   "cell_type": "code",
   "execution_count": 9,
   "id": "6da85d68",
   "metadata": {},
   "outputs": [
    {
     "name": "stdout",
     "output_type": "stream",
     "text": [
      "CAAAAAUGUGUGACGACGAGGUUGCCGCUCUUGUUGUAGACAAUGGAUCCGGAAUGUGCAAGGCCGGAUUCGCCGGAGACGACGCUCCACGCGCCGUGUUCCCAUCCAUUGUCGGAAGACCACGUCAUCAAGGAGUCAUGGUCGGUAUGGGACAAAAGGACUCGUACGUCGGAGAUGAGGCCCAGUCCAAGAGAGGUAUCCUUACCCUCAAGUACCCAAUCGAGCACGGAAUCGUCACAAAUUGGGACGAUAUGGAGAAGAUCUGGCACCACACCUUCUACAAUGAGCUCCGUGUUGCCCCAGAAGAGCACCCAGUCCUCCUCACUGAGGCCCCACUCAAUCCAAAGGCCAACAGAGAAAAGAUGACUCAAAUCAUGUUCGAGACCUUCAACACCCCAGCCAUGUACGUCGCGAUUCAAGCCGUUCUCUCCCUCUACGCUUCCGGACGUACCACCGGAGUCGUCCUCGACUCUGGAGAUGGUGUCACCCACACCGUCCCAAUCUACGAAGGAUAUGCUCUCCCACACGCCAUCCUUCGUCUCGACUUGGCCGGACGUGAUCUUACUGAUUACCUCAUGAAGAUCCUCACUGAGCGCGGUUACUCUUUCACCACCACCGCUGAGCGUGAGAUCGUUCGUGACAUCAAGGAGAAGCUCUGCUACGUCGCUCUCGACUUCGAGCAGGAAAUGGCCACCGCUGCUUCCUCAUCUUCACUCGAGAAGUCCUAUGAGCUUCCUGACGGACAGGUUAUCACCGUCGGAAAUGAACGUUUCCGUUGCCCAGAGGCUCUCUUCCAGCCAUCCUUCUUGGGUAUGGAGUCCGCCGGAAUCCACGAGACCUCGUACAACUCCAUCAUGAAGUGCGACAUUGACAUCCGUAAGGACUUGUACGCCAACACCGUUCUCUCCGGAGGAACCACCAUGUACCCAGGAAUUGCUGAUCGCAUGCAAAAGGAGAUCACCGCUCUUGCCCCAUCCACCAUGAAGAUCAAGAUCAUCGCUCCACCAGAGCGCAAAUACUCCGUCUGGAUCGGAGGAUCCAUCCUCGCUUCCCUCUCCACCUUCCAACAGAUGUGGAUCUCCAAGCAAGAGUACGACGAGUCCGGCCCAUCGAUCGUCCACCGCAAGUGCUUCUAAGCGCCUCGUCCCCACCAUUUUUCUCUAUUAUUUUUUCCUUUUUUACCAUCUUUUUUCCCUUUUUUGUCACCAAAUCGUUAUGGUCCCUUUUGGGACAAUAACAACUUCCGUAUCAUCAUUUUAAGAUCAUGAGACCAUCCAAAAAAAGAC\n"
     ]
    }
   ],
   "source": [
    "sequence = sequence.replace(\"T\",\"U\")\n",
    "print(sequence)"
   ]
  },
  {
   "cell_type": "markdown",
   "id": "1f48da49",
   "metadata": {},
   "source": [
    "Next, let's import a codon table named `codontab` from the file `codons.py`"
   ]
  },
  {
   "cell_type": "code",
   "execution_count": 11,
   "id": "28e9fea4",
   "metadata": {},
   "outputs": [
    {
     "data": {
      "text/plain": [
       "{'UCA': 'S',\n",
       " 'UCC': 'S',\n",
       " 'UCG': 'S',\n",
       " 'UCU': 'S',\n",
       " 'UUC': 'F',\n",
       " 'UUU': 'F',\n",
       " 'UUA': 'L',\n",
       " 'UUG': 'L',\n",
       " 'UAC': 'Y',\n",
       " 'UAU': 'Y',\n",
       " 'UAA': '*',\n",
       " 'UAG': '*',\n",
       " 'UGC': 'C',\n",
       " 'UGU': 'C',\n",
       " 'UGA': '*',\n",
       " 'UGG': 'W',\n",
       " 'CUA': 'L',\n",
       " 'CUC': 'L',\n",
       " 'CUG': 'L',\n",
       " 'CUU': 'L',\n",
       " 'CCA': 'P',\n",
       " 'CCC': 'P',\n",
       " 'CCG': 'P',\n",
       " 'CCU': 'P',\n",
       " 'CAC': 'H',\n",
       " 'CAU': 'H',\n",
       " 'CAA': 'Q',\n",
       " 'CAG': 'Q',\n",
       " 'CGA': 'R',\n",
       " 'CGC': 'R',\n",
       " 'CGG': 'R',\n",
       " 'CGU': 'R',\n",
       " 'AUA': 'I',\n",
       " 'AUC': 'I',\n",
       " 'AUU': 'I',\n",
       " 'AUG': 'M',\n",
       " 'ACA': 'T',\n",
       " 'ACC': 'T',\n",
       " 'ACG': 'T',\n",
       " 'ACU': 'T',\n",
       " 'AAC': 'N',\n",
       " 'AAU': 'N',\n",
       " 'AAA': 'K',\n",
       " 'AAG': 'K',\n",
       " 'AGC': 'S',\n",
       " 'AGU': 'S',\n",
       " 'AGA': 'R',\n",
       " 'AGG': 'R',\n",
       " 'GUA': 'V',\n",
       " 'GUC': 'V',\n",
       " 'GUG': 'V',\n",
       " 'GUU': 'V',\n",
       " 'GCA': 'A',\n",
       " 'GCC': 'A',\n",
       " 'GCG': 'A',\n",
       " 'GCU': 'A',\n",
       " 'GAC': 'D',\n",
       " 'GAU': 'D',\n",
       " 'GAA': 'E',\n",
       " 'GAG': 'E',\n",
       " 'GGA': 'G',\n",
       " 'GGC': 'G',\n",
       " 'GGG': 'G',\n",
       " 'GGU': 'G'}"
      ]
     },
     "execution_count": 11,
     "metadata": {},
     "output_type": "execute_result"
    }
   ],
   "source": [
    "from codons import codontab\n",
    "codontab"
   ]
  },
  {
   "cell_type": "markdown",
   "id": "9eb0f6ee",
   "metadata": {},
   "source": [
    "Now you can use a `for` loop to create a translation of the sequence. Don't forget to search for the start codon first!"
   ]
  },
  {
   "cell_type": "code",
   "execution_count": 18,
   "id": "abb8e4c6",
   "metadata": {},
   "outputs": [
    {
     "name": "stdout",
     "output_type": "stream",
     "text": [
      "MCDDEVAALVVDNGSGMCKAGFAGDDAPRAVFPSIVGRPRHQGVMVGMGQKDSYVGDEAQSKRGILTLKYPIEHGIVTNWDDMEKIWHHTFYNELRVAPEEHPVLLTEAPLNPKANREKMTQIMFETFNTPAMYVAIQAVLSLYASGRTTGVVLDSGDGVTHTVPIYEGYALPHAILRLDLAGRDLTDYLMKILTERGYSFTTTAEREIVRDIKEKLCYVALDFEQEMATAASSSSLEKSYELPDGQVITVGNERFRCPEALFQPSFLGMESAGIHETSYNSIMKCDIDIRKDLYANTVLSGGTTMYPGIADRMQKEITALAPSTMKIKIIAPPERKYSVWIGGSILASLSTFQQMWISKQEYDESGPSIVHRKCF*\n"
     ]
    }
   ],
   "source": [
    "start = sequence.find(\"AUG\")\n",
    "aa_seq = []\n",
    "for i in range(start,len(sequence),3):\n",
    "    codon = sequence[i:i+3]\n",
    "    if codon in [\"UAA\",\"UAG\",\"UGA\"]:\n",
    "        aa_seq.append(codontab[codon])\n",
    "        break\n",
    "    elif codon in codontab.keys():\n",
    "        aa_seq.append(codontab[codon])\n",
    "aa_seq = \"\".join(aa_seq)\n",
    "print(aa_seq)"
   ]
  },
  {
   "cell_type": "markdown",
   "id": "f21ab6af",
   "metadata": {},
   "source": [
    "Can you count how many times each amino acid appears?"
   ]
  },
  {
   "cell_type": "code",
   "execution_count": 20,
   "id": "cc2fcfab",
   "metadata": {},
   "outputs": [
    {
     "name": "stdout",
     "output_type": "stream",
     "text": [
      "{'M': 16, 'C': 6, 'D': 22, 'E': 27, 'V': 24, 'A': 30, 'L': 28, 'N': 9, 'G': 28, 'S': 26, 'K': 19, 'F': 12, 'P': 19, 'R': 18, 'I': 26, 'H': 9, 'Q': 12, 'Y': 16, 'T': 25, 'W': 4, '*': 1}\n"
     ]
    }
   ],
   "source": [
    "aa_count = {}\n",
    "for aa in aa_seq:\n",
    "    if aa not in aa_count.keys():\n",
    "        aa_count[aa] = 1\n",
    "    else:\n",
    "        aa_count[aa]+=1\n",
    "print(aa_count)"
   ]
  },
  {
   "cell_type": "markdown",
   "id": "c44f0133",
   "metadata": {},
   "source": [
    "Finally, let's write these results to a file"
   ]
  },
  {
   "cell_type": "code",
   "execution_count": 21,
   "id": "4ac3ebb2",
   "metadata": {},
   "outputs": [],
   "source": [
    "f_name = \"actin_aa_count.txt\"\n",
    "with open(f_name,'w') as f:\n",
    "    f.write(str(aa_count))\n",
    "f.close()"
   ]
  }
 ],
 "metadata": {
  "kernelspec": {
   "display_name": "qb25",
   "language": "python",
   "name": "python3"
  },
  "language_info": {
   "codemirror_mode": {
    "name": "ipython",
    "version": 3
   },
   "file_extension": ".py",
   "mimetype": "text/x-python",
   "name": "python",
   "nbconvert_exporter": "python",
   "pygments_lexer": "ipython3",
   "version": "3.12.3"
  }
 },
 "nbformat": 4,
 "nbformat_minor": 5
}
